{
 "cells": [
  {
   "cell_type": "code",
   "execution_count": 1,
   "metadata": {},
   "outputs": [],
   "source": [
    "from sklearn.datasets import make_regression\n",
    "import equinox as eqx\n",
    "from jaxtyping import Float, Array\n",
    "import jax\n",
    "\n",
    "from jax.extend.backend import get_backend\n",
    "from rich.pretty import pprint"
   ]
  },
  {
   "cell_type": "code",
   "execution_count": 2,
   "metadata": {},
   "outputs": [],
   "source": [
    "a = get_backend().platform"
   ]
  },
  {
   "cell_type": "code",
   "execution_count": 3,
   "metadata": {},
   "outputs": [
    {
     "data": {
      "text/html": [
       "<pre style=\"white-space:pre;overflow-x:auto;line-height:normal;font-family:Menlo,'DejaVu Sans Mono',consolas,'Courier New',monospace\"><span style=\"color: #008000; text-decoration-color: #008000\">'gpu'</span>\n",
       "</pre>\n"
      ],
      "text/plain": [
       "\u001b[32m'gpu'\u001b[0m\n"
      ]
     },
     "metadata": {},
     "output_type": "display_data"
    }
   ],
   "source": [
    "pprint(a)"
   ]
  },
  {
   "cell_type": "code",
   "execution_count": 4,
   "metadata": {},
   "outputs": [],
   "source": [
    "data = make_regression(random_state=10, n_samples=int(1e5), n_features=int(1e3))\n",
    "x, y = data"
   ]
  },
  {
   "cell_type": "code",
   "execution_count": 5,
   "metadata": {},
   "outputs": [
    {
     "data": {
      "text/plain": [
       "((100000, 1000), (100000,))"
      ]
     },
     "execution_count": 5,
     "metadata": {},
     "output_type": "execute_result"
    }
   ],
   "source": [
    "x.shape, y.shape"
   ]
  },
  {
   "cell_type": "code",
   "execution_count": 6,
   "metadata": {},
   "outputs": [],
   "source": [
    "class Linear(eqx.Module):\n",
    "    stack: list\n",
    "\n",
    "    def __init__(self, rng):\n",
    "        key1, key2, key3 = jax.random.split(rng, 3)\n",
    "        self.stack = [\n",
    "            eqx.nn.Linear(in_features=1000, out_features=64, key=key1),\n",
    "            eqx.nn.Linear(in_features=64, out_features=64, key=key2),\n",
    "            eqx.nn.Linear(in_features=64, out_features=1, key=key3),\n",
    "        ]\n",
    "\n",
    "    def __call__(self, x: Float[Array, \"1 100\"]) -> Float[Array, \"1\"]:  # noqa: F722\n",
    "        for layer in self.stack:\n",
    "            x = jax.nn.relu(layer(x))\n",
    "        return x"
   ]
  },
  {
   "cell_type": "code",
   "execution_count": 7,
   "metadata": {},
   "outputs": [],
   "source": [
    "rng = jax.random.PRNGKey(10)\n",
    "model = Linear(rng)\n",
    "compiled_model = jax.jit(model)"
   ]
  },
  {
   "cell_type": "code",
   "execution_count": 8,
   "metadata": {},
   "outputs": [
    {
     "name": "stdout",
     "output_type": "stream",
     "text": [
      "Linear(\n",
      "  stack=[\n",
      "    Linear(\n",
      "      weight=f32[64,1000],\n",
      "      bias=f32[64],\n",
      "      in_features=1000,\n",
      "      out_features=64,\n",
      "      use_bias=True\n",
      "    ),\n",
      "    Linear(\n",
      "      weight=f32[64,64],\n",
      "      bias=f32[64],\n",
      "      in_features=64,\n",
      "      out_features=64,\n",
      "      use_bias=True\n",
      "    ),\n",
      "    Linear(\n",
      "      weight=f32[1,64],\n",
      "      bias=f32[1],\n",
      "      in_features=64,\n",
      "      out_features=1,\n",
      "      use_bias=True\n",
      "    )\n",
      "  ]\n",
      ")\n"
     ]
    }
   ],
   "source": [
    "print(model)"
   ]
  },
  {
   "cell_type": "code",
   "execution_count": 9,
   "metadata": {},
   "outputs": [],
   "source": [
    "def loss(model, x, y):\n",
    "    pred = jax.vmap(model)(x)\n",
    "    return pred - jax.numpy.expand_dims(y, 1) ** 2\n",
    "\n",
    "\n",
    "compiled_loss = jax.jit(loss)"
   ]
  },
  {
   "cell_type": "code",
   "execution_count": 10,
   "metadata": {},
   "outputs": [],
   "source": [
    "# import timeit\n",
    "\n",
    "# start = timeit.default_timer()\n",
    "\n",
    "# loss(model, x, y).mean()\n",
    "\n",
    "# end = timeit.default_timer()\n",
    "\n",
    "# end - start"
   ]
  },
  {
   "cell_type": "code",
   "execution_count": 11,
   "metadata": {},
   "outputs": [],
   "source": [
    "# import timeit\n",
    "\n",
    "# start = timeit.default_timer()\n",
    "# grads = jax.grad(loss, argnums=[0])(model, x, y)\n",
    "\n",
    "# end = timeit.default_timer()\n",
    "\n",
    "# end - start"
   ]
  },
  {
   "cell_type": "code",
   "execution_count": 12,
   "metadata": {},
   "outputs": [
    {
     "name": "stdout",
     "output_type": "stream",
     "text": [
      "149 ms ± 1.11 ms per loop (mean ± std. dev. of 7 runs, 10 loops each)\n"
     ]
    }
   ],
   "source": [
    "compiled_loss(model, x, y).block_until_ready()\n",
    "\n",
    "%timeit compiled_loss(model, x, y).block_until_ready()"
   ]
  },
  {
   "cell_type": "code",
   "execution_count": 13,
   "metadata": {},
   "outputs": [
    {
     "name": "stdout",
     "output_type": "stream",
     "text": [
      "154 ms ± 6.38 ms per loop (mean ± std. dev. of 7 runs, 1 loop each)\n"
     ]
    }
   ],
   "source": [
    "%timeit loss(model, x, y).block_until_ready()"
   ]
  },
  {
   "cell_type": "code",
   "execution_count": 14,
   "metadata": {},
   "outputs": [
    {
     "name": "stdout",
     "output_type": "stream",
     "text": [
      "198 μs ± 876 ns per loop (mean ± std. dev. of 7 runs, 10,000 loops each)\n"
     ]
    }
   ],
   "source": [
    "import jax\n",
    "import jax.numpy as jnp\n",
    "\n",
    "\n",
    "def selu(x, alpha=1.67, lambda_=1.05):\n",
    "    return lambda_ * jnp.where(x > 0, x, alpha * jnp.exp(x) - alpha)\n",
    "\n",
    "\n",
    "x = jnp.arange(1000000)\n",
    "%timeit selu(x).block_until_ready()"
   ]
  },
  {
   "cell_type": "code",
   "execution_count": 15,
   "metadata": {},
   "outputs": [
    {
     "name": "stdout",
     "output_type": "stream",
     "text": [
      "62.9 μs ± 3.27 μs per loop (mean ± std. dev. of 7 runs, 10,000 loops each)\n"
     ]
    }
   ],
   "source": [
    "selu_jit = jax.jit(selu)\n",
    "\n",
    "# Pre-compile the function before timing...\n",
    "selu_jit(x).block_until_ready()\n",
    "\n",
    "%timeit selu_jit(x).block_until_ready()"
   ]
  },
  {
   "cell_type": "code",
   "execution_count": 16,
   "metadata": {},
   "outputs": [],
   "source": [
    "def func(x, a, b):\n",
    "    return x - jnp.log(x + (1 / a)) - b**2 + jnp.log(b - a)"
   ]
  },
  {
   "cell_type": "code",
   "execution_count": 17,
   "metadata": {},
   "outputs": [
    {
     "data": {
      "text/plain": [
       "(Array(-53.948708, dtype=float32, weak_type=True),\n",
       " Array(0.8947368, dtype=float32, weak_type=True),\n",
       " Array(0.01108033, dtype=float32, weak_type=True))"
      ]
     },
     "execution_count": 17,
     "metadata": {},
     "output_type": "execute_result"
    }
   ],
   "source": [
    "(\n",
    "    func(10.0, -2.0, 8.0),\n",
    "    jax.grad(func)(10.0, -2.0, 8.0),\n",
    "    jax.grad(jax.grad(func))(10.0, -2.0, 8.0),\n",
    ")"
   ]
  },
  {
   "cell_type": "code",
   "execution_count": 18,
   "metadata": {},
   "outputs": [
    {
     "data": {
      "text/plain": [
       "(Array(-53.948708, dtype=float32, weak_type=True),\n",
       " Array(-0.07368422, dtype=float32, weak_type=True),\n",
       " Array(-0.00277008, dtype=float32, weak_type=True))"
      ]
     },
     "execution_count": 18,
     "metadata": {},
     "output_type": "execute_result"
    }
   ],
   "source": [
    "(\n",
    "    func(10.0, -2.0, 8.0),\n",
    "    jax.grad(func, argnums=1)(10.0, -2.0, 8.0),\n",
    "    jax.grad(jax.grad(func, argnums=1), argnums=0)(10.0, -2.0, 8.0),\n",
    ")"
   ]
  },
  {
   "cell_type": "code",
   "execution_count": 19,
   "metadata": {},
   "outputs": [
    {
     "data": {
      "text/plain": [
       "(Array(0.8947368, dtype=float32, weak_type=True),\n",
       " Array(0.01108033, dtype=float32, weak_type=True))"
      ]
     },
     "execution_count": 19,
     "metadata": {},
     "output_type": "execute_result"
    }
   ],
   "source": [
    "value, grad = jax.value_and_grad(jax.grad(func))(10.0, -2.0, 8.0)\n",
    "value, grad"
   ]
  },
  {
   "cell_type": "code",
   "execution_count": 20,
   "metadata": {},
   "outputs": [],
   "source": [
    "def func(params):\n",
    "    a = params[\"a\"]\n",
    "    b = params[\"b\"]\n",
    "    x = params[\"x\"]\n",
    "    return x - jnp.log(x + (1 / a)) - b**2 + jnp.log(b - a)"
   ]
  },
  {
   "cell_type": "code",
   "execution_count": 21,
   "metadata": {},
   "outputs": [
    {
     "data": {
      "text/plain": [
       "(Array(-53.948708, dtype=float32, weak_type=True),\n",
       " {'a': Array(-0.07368422, dtype=float32, weak_type=True),\n",
       "  'b': Array(-15.9, dtype=float32, weak_type=True),\n",
       "  'x': Array(0.8947368, dtype=float32, weak_type=True)})"
      ]
     },
     "execution_count": 21,
     "metadata": {},
     "output_type": "execute_result"
    }
   ],
   "source": [
    "params = {\"x\": 10.0, \"a\": -2.0, \"b\": 8.0}\n",
    "func(params), jax.grad(func)(params)"
   ]
  },
  {
   "cell_type": "code",
   "execution_count": null,
   "metadata": {},
   "outputs": [],
   "source": []
  }
 ],
 "metadata": {
  "kernelspec": {
   "display_name": "umbral",
   "language": "python",
   "name": "python3"
  },
  "language_info": {
   "codemirror_mode": {
    "name": "ipython",
    "version": 3
   },
   "file_extension": ".py",
   "mimetype": "text/x-python",
   "name": "python",
   "nbconvert_exporter": "python",
   "pygments_lexer": "ipython3",
   "version": "3.10.14"
  }
 },
 "nbformat": 4,
 "nbformat_minor": 2
}
